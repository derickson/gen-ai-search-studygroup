{
 "cells": [
  {
   "cell_type": "markdown",
   "metadata": {},
   "source": [
    "## Connect to Google Vertex\n",
    "\n",
    "add an environment variable to your .env file for GOOGLE_PROJECT_NAME\n",
    "\n",
    "This is the name of the project in the dropdown th the top of your google cloud console\n",
    "https://console.cloud.google.com/\n",
    "\n",
    "This is only needed for setup. after setup the key files are stored by the google apis in your user directory / python environment"
   ]
  },
  {
   "cell_type": "markdown",
   "metadata": {},
   "source": [
    "### steps\n",
    "1. Make sure you are running Python 3.9\n",
    "2. install gcloud api to host machine (the pip coomand above)\n",
    "```pip install google-cloud-aiplatform```\n"
   ]
  },
  {
   "cell_type": "code",
   "execution_count": null,
   "metadata": {},
   "outputs": [],
   "source": [
    "! pip install -q google-cloud-aiplatform"
   ]
  },
  {
   "cell_type": "markdown",
   "metadata": {},
   "source": [
    "3. Confirm your .env file has a ```GOOGLE_PROJECT_NAME``` setting\n",
    "4. Run the supplied script ```google_vertex_sh.sh``` in a terminal that already has your python virtual env activated. It will prompt you to open a browser and log into the correct Google account to autorize use of Vertex. You'll need to copy and paste a key from the browser back tot he terminal, which will be stored in your local directories\n",
    "\n",
    "```bash\n",
    "bash ./google_vertex_sh.sh\n",
    "```\n",
    "\n",
    "![Google shell](img/google-0.jpg)\n",
    "\n",
    "\n",
    "![Google browser](img/google-1.jpg)\n",
    "\n",
    "\n",
    "![Google browser](img/google-2.jpg)\n",
    "\n",
    "\n",
    "![Google browser](img/google-3.jpg)"
   ]
  },
  {
   "cell_type": "markdown",
   "metadata": {},
   "source": [
    "with the authorization handled, you can now use Google Palm2 through the Vertex service\n",
    "\n",
    "Documentation (https://cloud.google.com/vertex-ai/docs/generative-ai/chat/test-chat-prompts#chat-query-python_vertex_ai_sdk)\n",
    "\n",
    "API Documentation (https://cloud.google.com/python/docs/reference/aiplatform/latest)"
   ]
  },
  {
   "cell_type": "code",
   "execution_count": null,
   "metadata": {},
   "outputs": [],
   "source": [
    "from vertexai.preview.language_models import ChatModel, InputOutputTextPair\n",
    "\n",
    "chat_model = ChatModel.from_pretrained(\"chat-bison@001\")\n",
    "parameters = {\n",
    "    \"temperature\": 0.2,  # Temperature controls the degree of randomness in token selection.\n",
    "    \"max_output_tokens\": 256,  # Token limit determines the maximum amount of text output.\n",
    "    \"top_p\": 0.95,  # Tokens are selected from most probable to least until the sum of their probabilities equals the top_p value.\n",
    "    \"top_k\": 40,  # A top_k of 1 means the selected token is the most probable among all tokens.\n",
    "}\n",
    "chat = chat_model.start_chat(\n",
    "    context=\"My name is Miles. You are an astronomer, knowledgeable about the solar system.\",\n",
    "    examples=[\n",
    "        InputOutputTextPair(\n",
    "            input_text=\"How many moons does Mars have?\",\n",
    "            output_text=\"The planet Mars has two moons, Phobos and Deimos.\",\n",
    "        ),\n",
    "    ],\n",
    ")\n",
    "response = chat.send_message(\n",
    "    \"How many planets are there in the solar system?\", **parameters\n",
    ")\n",
    "print(f\"Response from Model: {response.text}\")"
   ]
  }
 ],
 "metadata": {
  "kernelspec": {
   "display_name": "env",
   "language": "python",
   "name": "python3"
  },
  "language_info": {
   "codemirror_mode": {
    "name": "ipython",
    "version": 3
   },
   "file_extension": ".py",
   "mimetype": "text/x-python",
   "name": "python",
   "nbconvert_exporter": "python",
   "pygments_lexer": "ipython3",
   "version": "3.9.12"
  },
  "orig_nbformat": 4
 },
 "nbformat": 4,
 "nbformat_minor": 2
}
