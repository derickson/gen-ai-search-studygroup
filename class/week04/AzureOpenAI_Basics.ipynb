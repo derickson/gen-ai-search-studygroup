{
 "cells": [
  {
   "cell_type": "markdown",
   "metadata": {},
   "source": [
    "## Azure hosted OpenAI Python basics\n",
    "\n",
    "your .env file will need these\n",
    "\n",
    "```\n",
    "AZURE_OPENAI_API_KEY=\"YOUR KEY\"\n",
    "AZURE_OPENAI_API_INSTANCE_NAME=\"https://YOUR_AZURE_KEY_ENDPOINT.com\"\n",
    "AZURE_OPENAI_API_DEPLOYMENT_NAME=\"THE_DEPLOYMENT_NAME\"\n",
    "AZURE_OPENAI_API_TYPE=\"azure\"\n",
    "AZURE_OPENAI_API_VERSION=\"2023-05-15\"\n",
    "```"
   ]
  },
  {
   "cell_type": "code",
   "execution_count": 1,
   "metadata": {},
   "outputs": [],
   "source": [
    "! pip install -q openai==1.14.3 python_dotenv\n",
    "import os\n",
    "import openai\n",
    "from dotenv import load_dotenv"
   ]
  },
  {
   "cell_type": "code",
   "execution_count": 2,
   "metadata": {},
   "outputs": [
    {
     "data": {
      "text/plain": [
       "\"The sky can appear to be different colors depending on the time of day and weather conditions. During the day, the sky is typically blue due to the way sunlight is scattered in the Earth's atmosphere. At sunset or sunrise, the sky can be shades of orange, pink, or red. At night, the sky can be dark blue or black, dotted with stars.\""
      ]
     },
     "execution_count": 2,
     "metadata": {},
     "output_type": "execute_result"
    }
   ],
   "source": [
    "load_dotenv(\".env\", override=True)\n",
    "\n",
    "openai.api_key = os.environ['AZURE_OPENAI_API_KEY']\n",
    "openai.api_base = os.environ['AZURE_OPENAI_API_INSTANCE_NAME']\n",
    "openai.default_model = os.environ['AZURE_OPENAI_API_DEPLOYMENT_NAME']\n",
    "openai.api_version = os.environ['AZURE_OPENAI_API_VERSION']\n",
    "openai.api_type = os.environ['AZURE_OPENAI_API_TYPE']\n",
    "\n",
    "from openai import OpenAI\n",
    "client = OpenAI()\n",
    "completion = client.chat.completions.create(\n",
    "  model=\"gpt-3.5-turbo\",\n",
    "  messages=[\n",
    "    {\"role\": \"system\", \"content\": \"You are a helpful assistant.\"},\n",
    "    {\"role\": \"user\", \"content\": \"What color is the sky?\"}\n",
    "  ],\n",
    "  max_tokens=100\n",
    ")\n",
    "\n",
    "completion.choices[0].message.content"
   ]
  },
  {
   "cell_type": "code",
   "execution_count": 3,
   "metadata": {},
   "outputs": [
    {
     "data": {
      "text/plain": [
       "'The sky is purple today.'"
      ]
     },
     "execution_count": 3,
     "metadata": {},
     "output_type": "execute_result"
    }
   ],
   "source": [
    "retrieved_context = \"The color of the sky is purple today\"\n",
    "\n",
    "\n",
    "system_prompt = f\"\"\"\n",
    "You are a helpful AI assistant that answers questions using the provided context.\n",
    "If you can't answer the question using the provided context, say \"I don't know\".\n",
    "Don't apologize, and don't say you are an AI assistant.\n",
    "\n",
    "Context: {retrieved_context}\n",
    "\"\"\"\n",
    "\n",
    "question = \"What is the sky like today?\"\n",
    "\n",
    "messages = [\n",
    "    {\"role\":\"system\", \"content\": system_prompt},\n",
    "    {\"role\":\"user\", \"content\": question}\n",
    "]\n",
    "\n",
    "completion = client.chat.completions.create(\n",
    "  model=\"gpt-3.5-turbo\",\n",
    "  messages=messages,\n",
    "  max_tokens=100\n",
    ")\n",
    "\n",
    "completion.choices[0].message.content"
   ]
  }
 ],
 "metadata": {
  "kernelspec": {
   "display_name": "env",
   "language": "python",
   "name": "python3"
  },
  "language_info": {
   "codemirror_mode": {
    "name": "ipython",
    "version": 3
   },
   "file_extension": ".py",
   "mimetype": "text/x-python",
   "name": "python",
   "nbconvert_exporter": "python",
   "pygments_lexer": "ipython3",
   "version": "3.9.12"
  },
  "orig_nbformat": 4
 },
 "nbformat": 4,
 "nbformat_minor": 2
}
